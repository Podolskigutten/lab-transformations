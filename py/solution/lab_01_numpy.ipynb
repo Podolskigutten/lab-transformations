{
 "cells": [
  {
   "cell_type": "markdown",
   "metadata": {},
   "source": [
    "# Lab 1: Transformations with NumPy\n",
    "You are now in a Jupyter notebook! It consists of written text, mixed with executable Python code.\n",
    "\n",
    "You are supposed to read from top to bottom, and fill in code in the Python-blocks as you go.\n",
    "\n",
    "## 1. Getting started\n",
    "Familiarize yourself with the [NumPy quickstart](https://numpy.org/doc/stable/user/quickstart.html). You will need it to solve the following tasks.\n",
    "Use the text, examples and links in the quickstart guide.\n",
    "\n",
    "## 2. Get familiar with NumPy\n",
    "First, import NumPy:\n",
    "\n",
    "Press `Shift + Enter` to execute and advance to the next block. Repeat for each block. You can click on a block to edit and run the code again.\n",
    "Press `Ctrl + Enter` to execute the current block without advancing."
   ]
  },
  {
   "cell_type": "code",
   "metadata": {
    "pycharm": {
     "name": "#%%\n"
    },
    "ExecuteTime": {
     "end_time": "2025-01-28T14:15:38.351291Z",
     "start_time": "2025-01-28T14:15:38.308641Z"
    }
   },
   "source": [
    "import numpy as np"
   ],
   "outputs": [],
   "execution_count": 1
  },
  {
   "cell_type": "markdown",
   "metadata": {},
   "source": [
    "## a) Create vectors and matrices\n",
    "#### Create the vector `t`\n",
    "\n",
    "$\\mathbf{t} =\n",
    "\\begin{bmatrix}\n",
    "1 \\\\\n",
    "0 \\\\\n",
    "3\n",
    "\\end{bmatrix}\n",
    "$\n",
    "\n",
    "Hint: [https://numpy.org/doc/stable/user/quickstart.html#array-creation](https://numpy.org/doc/stable/user/quickstart.html#array-creation)"
   ]
  },
  {
   "cell_type": "code",
   "metadata": {
    "pycharm": {
     "name": "#%%\n"
    },
    "ExecuteTime": {
     "end_time": "2025-01-28T14:15:40.457852Z",
     "start_time": "2025-01-28T14:15:40.454698Z"
    }
   },
   "source": [
    "# TODO: Create the vector `t`\n",
    "t = np.array([1, 0, 3])\n",
    "print(f\"t = {t}\\nshape: {t.shape}\\ntype: {type(t)}\")"
   ],
   "outputs": [
    {
     "name": "stdout",
     "output_type": "stream",
     "text": [
      "t = [1 0 3]\n",
      "shape: (3,)\n",
      "type: <class 'numpy.ndarray'>\n"
     ]
    }
   ],
   "execution_count": 2
  },
  {
   "cell_type": "markdown",
   "metadata": {},
   "source": [
    "It's important to note that the sequence of numbers in a one-dimensional NumPy \"vector\", like `np.array([1, 2, 3])`, is just numbers in a vector space and therefore neither a row nor a column vector. We can see that its shape is `(3,)`.\n",
    "\n",
    "In order to use it with linear algebra, we have to explicitly go for a 2D representation.\n",
    "\n",
    "#### Try to create `t` as a `N x 1` _column_ vector.\n"
   ]
  },
  {
   "cell_type": "code",
   "metadata": {
    "pycharm": {
     "name": "#%%\n"
    },
    "ExecuteTime": {
     "end_time": "2025-01-28T14:15:47.505830Z",
     "start_time": "2025-01-28T14:15:47.500174Z"
    }
   },
   "source": [
    "# TODO: Create 't' as a 'N x 1' column vector\n",
    "# Be explicit when you create\n",
    "row = np.array([[1, 2, 3]])               # 1 row with 3 elements. Note the double brackets.\n",
    "col = np.array([[1],[2],[3]])             # 3 rows with 1 element each\n",
    "col2 = np.array([[1, 2, 3]]).T            # Transpose a row vector\n",
    "print(\"Explicit\")\n",
    "print(f\"row = {row}, shape: {row.shape}\")\n",
    "print(f\"col = \\n{col}, shape: {col.shape}\")\n",
    "print(f\"\\nTranspose:\\ncol2 = \\n{col}, shape: {col2.shape}\")\n",
    "\n",
    "# Use shortcuts when you create\n",
    "row = np.r_['r', [1,2,3]]                 # shape: (1, 3)\n",
    "col = np.r_['c', [1,2,3]]                 # shape: (3, 1)\n",
    "print(\"\\nShortcuts\")\n",
    "print(f\"row = {row}, shape: {row.shape}\")\n",
    "print(f\"col = \\n{col}, shape: {col.shape}\")\n",
    "\n",
    "# Reshape existing data\n",
    "col = np.array([1,2,3]).reshape(-1, 1)    # Reshape to change the 'view' of the data\n",
    "row = np.array([1,2,3]).reshape(1, -1)    # Reshape to change the 'view' of the data\n",
    "print(\"\\nReshape\")\n",
    "print(f\"row = {row}, shape: {row.shape}\")\n",
    "print(f\"col = \\n{col}, shape: {col.shape}\")\n",
    "\n",
    "# Increase the dimension of existing data\n",
    "arr = np.array([1,2,3])\n",
    "row = arr[np.newaxis, :]\n",
    "col = arr[:,np.newaxis]\n",
    "print(\"\\nIncrease dimension\")\n",
    "print(f\"row = {row}, shape: {row.shape}\")\n",
    "print(f\"col = \\n{col}, shape: {col.shape}\")\n",
    "\n",
    "# We'll go for the one with the least typing\n",
    "t = np.array([[1, 0, 3]]).T\n",
    "print(f\"\\nt = \\n{t}\\nshape: {t.shape}\")"
   ],
   "outputs": [
    {
     "name": "stdout",
     "output_type": "stream",
     "text": [
      "Explicit\n",
      "row = [[1 2 3]], shape: (1, 3)\n",
      "col = \n",
      "[[1]\n",
      " [2]\n",
      " [3]], shape: (3, 1)\n",
      "\n",
      "Transpose:\n",
      "col2 = \n",
      "[[1]\n",
      " [2]\n",
      " [3]], shape: (3, 1)\n",
      "\n",
      "Shortcuts\n",
      "row = [[1 2 3]], shape: (1, 3)\n",
      "col = \n",
      "[[1]\n",
      " [2]\n",
      " [3]], shape: (3, 1)\n",
      "\n",
      "Reshape\n",
      "row = [[1 2 3]], shape: (1, 3)\n",
      "col = \n",
      "[[1]\n",
      " [2]\n",
      " [3]], shape: (3, 1)\n",
      "\n",
      "Increase dimension\n",
      "row = [[1 2 3]], shape: (1, 3)\n",
      "col = \n",
      "[[1]\n",
      " [2]\n",
      " [3]], shape: (3, 1)\n",
      "\n",
      "t = \n",
      "[[1]\n",
      " [0]\n",
      " [3]]\n",
      "shape: (3, 1)\n"
     ]
    }
   ],
   "execution_count": 3
  },
  {
   "cell_type": "markdown",
   "metadata": {},
   "source": [
    "#### Create the matrix `A`\n",
    "\n",
    "$\n",
    "\\mathbf{A} =\n",
    "\\begin{bmatrix}\n",
    "1 & 0 & 3\\\\\n",
    "4 & 5 & 6 \\\\\n",
    "7 & 8 & 9\n",
    "\\end{bmatrix}\n",
    "$"
   ]
  },
  {
   "cell_type": "code",
   "metadata": {
    "pycharm": {
     "name": "#%%\n"
    },
    "ExecuteTime": {
     "end_time": "2025-01-28T14:15:55.344045Z",
     "start_time": "2025-01-28T14:15:55.340873Z"
    }
   },
   "source": [
    "# TODO: Create the matrix A\n",
    "A = np.array([[1, 0, 3],\n",
    "              [4, 5, 6],\n",
    "              [7, 8, 9]])\n",
    "print(f\"A:\\n{A}\")"
   ],
   "outputs": [
    {
     "name": "stdout",
     "output_type": "stream",
     "text": [
      "A:\n",
      "[[1 0 3]\n",
      " [4 5 6]\n",
      " [7 8 9]]\n"
     ]
    }
   ],
   "execution_count": 4
  },
  {
   "cell_type": "markdown",
   "metadata": {},
   "source": [
    "#### Create the identity matrix I.\n",
    "\n",
    "$\n",
    "\\mathbf{I}=\n",
    "\\begin{bmatrix}\n",
    "1 & 0 & 0\\\\\n",
    "0 & 1 & 0 \\\\\n",
    "0 & 0 & 1\n",
    "\\end{bmatrix}\n",
    "$\n",
    "\n",
    "Hint: [https://numpy.org/doc/stable/user/quickstart.html#functions-and-methods-overview](https://numpy.org/doc/stable/user/quickstart.html#functions-and-methods-overview)"
   ]
  },
  {
   "cell_type": "code",
   "metadata": {
    "pycharm": {
     "name": "#%%\n"
    },
    "ExecuteTime": {
     "end_time": "2025-01-28T14:15:58.074082Z",
     "start_time": "2025-01-28T14:15:58.070522Z"
    }
   },
   "source": [
    "# TODO: Create the matrix I\n",
    "I = np.eye(3)\n",
    "print(f\"I:\\n{I}\")"
   ],
   "outputs": [
    {
     "name": "stdout",
     "output_type": "stream",
     "text": [
      "I:\n",
      "[[1. 0. 0.]\n",
      " [0. 1. 0.]\n",
      " [0. 0. 1.]]\n"
     ]
    }
   ],
   "execution_count": 5
  },
  {
   "cell_type": "markdown",
   "metadata": {
    "pycharm": {
     "name": "#%% md\n"
    }
   },
   "source": [
    "#### Create the matrix T.\n",
    "\n",
    "$\n",
    "\\mathbf{T} =\n",
    "\\begin{bmatrix}\n",
    "\\mathbf{A} & \\mathbf{t} \\\\\n",
    "\\mathbf{0} & 1\n",
    "\\end{bmatrix}\n",
    "$\n",
    "\n",
    "Hint: [https://numpy.org/doc/stable/user/quickstart.html#stacking-together-different-arrays](https://numpy.org/doc/stable/user/quickstart.html#stacking-together-different-arrays)\n",
    "Hint: [https://numpy.org/doc/stable/reference/generated/numpy.block.html](https://numpy.org/doc/stable/reference/generated/numpy.block.html)"
   ]
  },
  {
   "cell_type": "code",
   "metadata": {
    "pycharm": {
     "name": "#%%\n"
    },
    "ExecuteTime": {
     "end_time": "2025-01-28T14:16:19.350382Z",
     "start_time": "2025-01-28T14:16:19.346419Z"
    }
   },
   "source": [
    "# TODO: Create the matrix T\n",
    "T = np.block([                                  # Using 'block'\n",
    "    [A, t],\n",
    "    [0, 0, 0, 1]\n",
    "])\n",
    "T2 = np.vstack((np.c_[A, t], [0, 0, 0, 1]))  # Nested stacking\n",
    "\n",
    "print(f\"T = \\n{T}\\nnp.array_equal(T, T2): {np.array_equal(T, T2)}\")\n",
    "\n",
    "# Stacking: np.c_[A, t] does NOT require 't' to be a column (have two dimensions)\n",
    "# Block:    np.block([A, t]) does."
   ],
   "outputs": [
    {
     "name": "stdout",
     "output_type": "stream",
     "text": [
      "T = \n",
      "[[1 0 3 1]\n",
      " [4 5 6 0]\n",
      " [7 8 9 3]\n",
      " [0 0 0 1]]\n",
      "np.array_equal(T, T2): True\n"
     ]
    }
   ],
   "execution_count": 7
  },
  {
   "cell_type": "markdown",
   "metadata": {
    "pycharm": {
     "name": "#%% md\n"
    }
   },
   "source": [
    "#### Create the matrix B.\n",
    "\n",
    "$\n",
    "\\mathbf{B} = \\mathbf{A}^T\n",
    "$\n",
    "\n",
    "Hint: [https://numpy.org/doc/stable/user/quickstart.html#changing-the-shape-of-an-array](https://numpy.org/doc/stable/user/quickstart.html#changing-the-shape-of-an-array)"
   ]
  },
  {
   "cell_type": "code",
   "metadata": {
    "pycharm": {
     "name": "#%%\n"
    },
    "ExecuteTime": {
     "end_time": "2025-01-28T14:16:54.127431Z",
     "start_time": "2025-01-28T14:16:54.123955Z"
    }
   },
   "source": [
    "# TODO: Create the matrix B\n",
    "B = A.T\n",
    "print(f\"A = \\n{A}\\nB = \\n{B}\")"
   ],
   "outputs": [
    {
     "name": "stdout",
     "output_type": "stream",
     "text": [
      "A = \n",
      "[[1 0 3]\n",
      " [4 5 6]\n",
      " [7 8 9]]\n",
      "B = \n",
      "[[1 4 7]\n",
      " [0 5 8]\n",
      " [3 6 9]]\n"
     ]
    }
   ],
   "execution_count": 8
  },
  {
   "cell_type": "markdown",
   "metadata": {},
   "source": [
    "## b) Coefficients\n",
    "Set $t_2 = 2$ and $A_{12} = 2$, so that\n",
    "\n",
    "   $\\mathbf{t} =\n",
    "    \\begin{bmatrix}\n",
    "    1 \\\\\n",
    "    2 \\\\\n",
    "    3\n",
    "    \\end{bmatrix},\n",
    "    \\:\n",
    "    \\mathbf{A} =\n",
    "    \\begin{bmatrix}\n",
    "    1 & 2 & 3\\\\\n",
    "    4 & 5 & 6 \\\\\n",
    "    7 & 8 & 9\n",
    "    \\end{bmatrix}$\n",
    "\n",
    "Perform the corresponding corrections to **T**, so that we still have\n",
    "\n",
    "   $\\mathbf{T} =\n",
    "    \\begin{bmatrix}\n",
    "    \\mathbf{A} & \\mathbf{t} \\\\\n",
    "    \\mathbf{0} & 1\n",
    "    \\end{bmatrix}$\n",
    "\n",
    "But hey, what happened to **B**?"
   ]
  },
  {
   "cell_type": "code",
   "metadata": {
    "pycharm": {
     "name": "#%%\n"
    },
    "ExecuteTime": {
     "end_time": "2025-01-28T14:16:57.743329Z",
     "start_time": "2025-01-28T14:16:57.740385Z"
    }
   },
   "source": [
    "# TODO: Solve b)\n",
    "# Note python is zero indexed, so t_2 is t[1]\n",
    "t[1] = 2\n",
    "\n",
    "# In the matrix the indexes are A[row, col]\n",
    "A[0, 1] = 2\n",
    "\n",
    "# Update corresponding block in T.\n",
    "T[:3, :3] = A\n",
    "\n",
    "print(f\"t:\\n{t}\\nA:\\n{A},\\nT:\\n{T},\\nB:\\n{B}\")"
   ],
   "outputs": [
    {
     "name": "stdout",
     "output_type": "stream",
     "text": [
      "t:\n",
      "[[1]\n",
      " [2]\n",
      " [3]]\n",
      "A:\n",
      "[[1 2 3]\n",
      " [4 5 6]\n",
      " [7 8 9]],\n",
      "T:\n",
      "[[1 2 3 1]\n",
      " [4 5 6 0]\n",
      " [7 8 9 3]\n",
      " [0 0 0 1]],\n",
      "B:\n",
      "[[1 4 7]\n",
      " [2 5 8]\n",
      " [3 6 9]]\n"
     ]
    }
   ],
   "execution_count": 9
  },
  {
   "cell_type": "markdown",
   "metadata": {},
   "source": [
    "## c) Block operations\n",
    "Extract the row vector\n",
    "\n",
    "$\\mathbf{r}_2 = \\begin{bmatrix}A_{21} & A_{22} & A_{23}\\end{bmatrix}$\n",
    "\n",
    "and the column vector\n",
    "\n",
    "$\\mathbf{c}_2 = \\begin{bmatrix}A_{12} \\\\ A_{22} \\\\ A_{32} \\end{bmatrix}$\n",
    "\n",
    "from **A**.\n",
    "\n",
    "Extract the submatrix\n",
    "\n",
    "$\\mathbf{T}_{3 \\times 4} = \\begin{bmatrix}\\mathbf{A} & \\mathbf{t}\\end{bmatrix}$\n",
    "\n",
    "from **T**."
   ]
  },
  {
   "cell_type": "code",
   "metadata": {
    "pycharm": {
     "name": "#%%\n"
    },
    "ExecuteTime": {
     "end_time": "2025-01-28T14:17:04.205975Z",
     "start_time": "2025-01-28T14:17:04.202622Z"
    }
   },
   "source": [
    "# TODO: r_2\n",
    "r_2 = A[np.newaxis, 1, :]\n",
    "print(f\"r_2 = \\n{r_2}\\n\")\n",
    "\n",
    "# TODO: c_2\n",
    "c_2 = A[:, 1, np.newaxis]\n",
    "print(f\"c_2 = \\n{c_2}\\n\")\n",
    "\n",
    "# TODO: T_3x4\n",
    "T_3x4 = T[0:3]\n",
    "print(f\"T_3x4 = \\n{T_3x4}\")"
   ],
   "outputs": [
    {
     "name": "stdout",
     "output_type": "stream",
     "text": [
      "r_2 = \n",
      "[[4 5 6]]\n",
      "\n",
      "c_2 = \n",
      "[[2]\n",
      " [5]\n",
      " [8]]\n",
      "\n",
      "T_3x4 = \n",
      "[[1 2 3 1]\n",
      " [4 5 6 0]\n",
      " [7 8 9 3]]\n"
     ]
    }
   ],
   "execution_count": 10
  },
  {
   "cell_type": "markdown",
   "metadata": {},
   "source": [
    "Set the corresponding blocks in **A** and **T** to all `0` (so that the second row and column in **A** are all 0, and the upper 3x4 matrix in **T** is all 0).\n",
    "\n",
    "Hint: [https://numpy.org/doc/stable/user/quickstart.html#copies-and-views](https://numpy.org/doc/stable/user/quickstart.html#copies-and-views)"
   ]
  },
  {
   "cell_type": "code",
   "metadata": {
    "pycharm": {
     "name": "#%%\n"
    },
    "ExecuteTime": {
     "end_time": "2025-01-28T14:17:06.254462Z",
     "start_time": "2025-01-28T14:17:06.251250Z"
    }
   },
   "source": [
    "# TODO: set 0\n",
    "r_2[:] = 0\n",
    "c_2[:] = 0\n",
    "T_3x4[:] = 0\n",
    "print(f\"A = \\n{A}\")\n",
    "print(f\"T = \\n{T}\")"
   ],
   "outputs": [
    {
     "name": "stdout",
     "output_type": "stream",
     "text": [
      "A = \n",
      "[[1 0 3]\n",
      " [0 0 0]\n",
      " [7 0 9]]\n",
      "T = \n",
      "[[0 0 0 0]\n",
      " [0 0 0 0]\n",
      " [0 0 0 0]\n",
      " [0 0 0 1]]\n"
     ]
    }
   ],
   "execution_count": 11
  },
  {
   "cell_type": "markdown",
   "metadata": {},
   "source": [
    "## d) Matrix and vector arithmetic\n",
    "- Add two vectors\n",
    "- Add two matrices\n",
    "- Multiply two matrices\n",
    "- Take the dot product between two vectors\n",
    "- Take the coefficient-wise multiplication between two matrices\n",
    "\n",
    "Hint: [https://numpy.org/doc/stable/user/quickstart.html#basic-operations](https://numpy.org/doc/stable/user/quickstart.html#basic-operations)"
   ]
  },
  {
   "cell_type": "code",
   "metadata": {
    "pycharm": {
     "name": "#%%\n"
    },
    "ExecuteTime": {
     "end_time": "2025-01-28T14:17:08.680583Z",
     "start_time": "2025-01-28T14:17:08.675076Z"
    }
   },
   "source": [
    "# TODO: Solve d)\n",
    "v1 = np.array([1, 2, 3])\n",
    "v2 = np.array([3, 2, 1])\n",
    "M = np.arange(10, 19).reshape(3, 3)\n",
    "M[2, 2] = 5\n",
    "N = np.eye(3)\n",
    "\n",
    "print(f\"v1: {v1}\\nv2: {v2}\\n\")\n",
    "print(f\"M:\\n{M}\\nN:\\n{N}\\n\")\n",
    "\n",
    "# TODO: Compute the sum of two vectors.\n",
    "print(f\"v1 + v2 = {v1 + v2}\\n\")\n",
    "\n",
    "# TODO: Compute the sum of two matrices.\n",
    "print(f\"M + N = \\n{M + N}\\n\")\n",
    "\n",
    "# TODO: Compute the matrix multiplication of two matrices.\n",
    "print(f\"N matrix multiply M =\\n{N @ M}\\n\")\n",
    "\n",
    "# TODO: Compute the dot product between two vectors.\n",
    "print(f\"v1 dot v2 = {v1.dot(v2)}\\n\")\n",
    "\n",
    "# TODO: Compute the element-wise multiplication between two matrices.\n",
    "print(f\"M Element-wise product N =\\n{M * N}\")\n"
   ],
   "outputs": [
    {
     "name": "stdout",
     "output_type": "stream",
     "text": [
      "v1: [1 2 3]\n",
      "v2: [3 2 1]\n",
      "\n",
      "M:\n",
      "[[10 11 12]\n",
      " [13 14 15]\n",
      " [16 17  5]]\n",
      "N:\n",
      "[[1. 0. 0.]\n",
      " [0. 1. 0.]\n",
      " [0. 0. 1.]]\n",
      "\n",
      "v1 + v2 = [4 4 4]\n",
      "\n",
      "M + N = \n",
      "[[11. 11. 12.]\n",
      " [13. 15. 15.]\n",
      " [16. 17.  6.]]\n",
      "\n",
      "N matrix multiply M =\n",
      "[[10. 11. 12.]\n",
      " [13. 14. 15.]\n",
      " [16. 17.  5.]]\n",
      "\n",
      "v1 dot v2 = 10\n",
      "\n",
      "M Element-wise product N =\n",
      "[[10.  0.  0.]\n",
      " [ 0. 14.  0.]\n",
      " [ 0.  0.  5.]]\n"
     ]
    }
   ],
   "execution_count": 12
  },
  {
   "cell_type": "markdown",
   "metadata": {},
   "source": [
    "## e) Reductions\n",
    "- Take the sum of all elements in a matrix\n",
    "- Compute the minimum value in a matrix\n",
    "    - Also, find its position in the matrix\n",
    "- Create a vector that is the maximum of each column in a matrix\n",
    "- Find the L2-norm of a vector\n",
    "- Find the number of elements in a vector that is greater than a given value."
   ]
  },
  {
   "cell_type": "code",
   "metadata": {
    "pycharm": {
     "name": "#%%\n"
    },
    "ExecuteTime": {
     "end_time": "2025-01-28T14:17:11.989887Z",
     "start_time": "2025-01-28T14:17:11.984706Z"
    }
   },
   "source": [
    "# Replace 'None' with valid expressions\n",
    "\n",
    "# TODO: Take the sum of all elements in a matrix\n",
    "# https://numpy.org/doc/stable/user/quickstart.html#basic-operations\n",
    "print(f\"sum of A: {A.sum()}\")\n",
    "\n",
    "# TODO: Compute the minimum value in a matrix\n",
    "# TODO: Also, find its position in the matrix.\n",
    "print(f\"minimum of A: {A.min()} \"\n",
    "      f\"at index {A.argmin()}, \"\n",
    "      f\"(or {np.unravel_index(A.argmin(), A.shape)} in 2D)\")\n",
    "\n",
    "# TODO: Create a vector that is the maximum of each column in a matrix.\n",
    "print(f\"maximum of each column in A: {A.max(0)}\")\n",
    "\n",
    "# TODO: Find the L2-norm of a vector.\n",
    "v1 = np.array([1, 1])\n",
    "print(f\"L2 norm of {v1} is {np.linalg.norm(v1)}\")\n",
    "\n",
    "# TODO: Find the number of elements in a vector that is greater than a given value.\n",
    "# https://numpy.org/doc/stable/user/quickstart.html#changing-the-shape-of-an-array\n",
    "v2 = np.array([0, 10, 2, 13, 4, 15, 6, 17, 8, 19])\n",
    "print(f\"v2: {v2},\\n\"\n",
    "      f\"    {(v2 > 10).sum()} elements are greater than 10\")"
   ],
   "outputs": [
    {
     "name": "stdout",
     "output_type": "stream",
     "text": [
      "sum of A: 20\n",
      "minimum of A: 0 at index 1, (or (np.int64(0), np.int64(1)) in 2D)\n",
      "maximum of each column in A: [7 0 9]\n",
      "L2 norm of [1 1] is 1.4142135623730951\n",
      "v2: [ 0 10  2 13  4 15  6 17  8 19],\n",
      "    4 elements are greater than 10\n"
     ]
    }
   ],
   "execution_count": 13
  },
  {
   "cell_type": "markdown",
   "metadata": {
    "pycharm": {
     "name": "#%% md\n"
    }
   },
   "source": [
    "Now that you have gotten to know NumPy, let's use it to transform images in the [next part of the lab](lab_01_transformations.ipynb)!"
   ]
  }
 ],
 "metadata": {
  "kernelspec": {
   "display_name": "Python 3 (ipykernel)",
   "language": "python",
   "name": "python3"
  },
  "language_info": {
   "codemirror_mode": {
    "name": "ipython",
    "version": 3
   },
   "file_extension": ".py",
   "mimetype": "text/x-python",
   "name": "python",
   "nbconvert_exporter": "python",
   "pygments_lexer": "ipython3",
   "version": "3.8.0"
  }
 },
 "nbformat": 4,
 "nbformat_minor": 1
}
