{
 "cells": [
  {
   "cell_type": "markdown",
   "metadata": {
    "collapsed": true,
    "pycharm": {
     "name": "#%% md\n"
    }
   },
   "source": [
    "# 1. Getting started\n",
    "Familiarize yourself with the [NumPy quickstart](https://numpy.org/doc/stable/user/quickstart.html).\n",
    "\n",
    "# 2. Get familiar with NumPy\n",
    "You should be able to solve all of this part's tasks within the text, examples and links in the quickstart guide."
   ]
  },
  {
   "cell_type": "code",
   "execution_count": 1,
   "metadata": {
    "pycharm": {
     "is_executing": true,
     "name": "#%%\n"
    }
   },
   "outputs": [],
   "source": [
    "import numpy as np"
   ]
  },
  {
   "cell_type": "markdown",
   "metadata": {},
   "source": [
    "\n",
    "## a) Create vectors and matrices\n",
    "Create vector `t`"
   ]
  },
  {
   "cell_type": "code",
   "execution_count": 3,
   "metadata": {
    "pycharm": {
     "name": "#%%\n"
    }
   },
   "outputs": [
    {
     "name": "stdout",
     "output_type": "stream",
     "text": [
      "t = \n",
      "[[1]\n",
      " [0]\n",
      " [3]]\n"
     ]
    }
   ],
   "source": [
    "t = np.array([1, 0, 3])"
   ]
  },
  {
   "cell_type": "code",
   "execution_count": null,
   "metadata": {
    "pycharm": {
     "name": "#%%\n"
    }
   },
   "outputs": [],
   "source": [
    "\n",
    "# Todo: Create vector t.\n",
    "# Hint: https://numpy.org/doc/stable/user/quickstart.html#array-creation\n",
    "t = np.array([1, 0, 3]).reshape(3,1)\n",
    "print(f\"t = \\n{t}\")"
   ]
  },
  {
   "cell_type": "code",
   "execution_count": null,
   "metadata": {
    "pycharm": {
     "name": "#%%\n"
    }
   },
   "outputs": [],
   "source": [
    "\n",
    "# Todo: Create matrix A.\n",
    "A = np.array([[1, 0, 3],\n",
    "              [4, 5, 6],\n",
    "              [7, 8, 9]])\n",
    "\n",
    "# Todo: Create identity matrix I.\n",
    "# https://numpy.org/doc/stable/user/quickstart.html#functions-and-methods-overview\n",
    "I = np.eye(3)\n",
    "\n",
    "# Todo: Create matrix T.\n",
    "# https://numpy.org/doc/stable/user/quickstart.html#stacking-together-different-arrays\n",
    "T = np.row_stack((np.c_[A, t], [0, 0, 0, 1]))\n",
    "\n",
    "# Todo: Create matrix B.\n",
    "# https://numpy.org/doc/stable/user/quickstart.html#changing-the-shape-of-an-array\n",
    "B = A.T\n",
    "\n",
    "# Print the results (uncomment code below).\n",
    "print(\"a) Create a few vectors and matrices:\")\n",
    "print(\"-------------------------------------\")\n",
    "print(f\"t = \\n{t}\")\n",
    "print(f\"A = \\n{A}\")\n",
    "print(f\"I = \\n{I}\")\n",
    "print(f\"T = \\n{T}\")\n",
    "print(f\"B = \\n{B}\")"
   ]
  }
 ],
 "metadata": {
  "kernelspec": {
   "display_name": "Python 3 (ipykernel)",
   "language": "python",
   "name": "python3"
  },
  "language_info": {
   "codemirror_mode": {
    "name": "ipython",
    "version": 3
   },
   "file_extension": ".py",
   "mimetype": "text/x-python",
   "name": "python",
   "nbconvert_exporter": "python",
   "pygments_lexer": "ipython3",
   "version": "3.8.10"
  }
 },
 "nbformat": 4,
 "nbformat_minor": 1
}
