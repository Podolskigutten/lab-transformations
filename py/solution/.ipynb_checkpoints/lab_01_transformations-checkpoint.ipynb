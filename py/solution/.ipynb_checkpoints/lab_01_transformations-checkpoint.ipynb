{
 "cells": [
  {
   "cell_type": "markdown",
   "metadata": {
    "collapsed": true,
    "pycharm": {
     "name": "#%% md\n"
    }
   },
   "source": [
    "# Step 2: Image transformations\n",
    "We will now use Eigen and OpenCV to transform image by applying transformation matrices on homogeneous form.\n",
    "\n",
    "This part uses the ```lab_01_transformations``` notebook.\n",
    "Open ```lab_01/lab_01_transformations/lab_01_transformations.ipynb``` in PyCharm."
   ]
  },
  {
   "cell_type": "code",
   "execution_count": 7,
   "metadata": {
    "pycharm": {
     "name": "#%%\n"
    }
   },
   "outputs": [],
   "source": [
    "import numpy as np"
   ]
  },
  {
   "cell_type": "markdown",
   "metadata": {},
   "source": [
    "## 1. Eigen and homogeneous representations\n",
    "For different values of **t**, *&theta;* and **u**,\n",
    "\n",
    "Use NumPy to define a 2D Euclidean transformation matrix\n",
    "\n",
    "  $\\mathbf{E} = \\begin{bmatrix}\\mathbf{R} & \\mathbf{t} \\\\\\mathbf{0} & 1\\end{bmatrix}$\n",
    "\n",
    "  where\n",
    "\n",
    "  $\\mathbf{R} =\n",
    "  \\begin{bmatrix}\n",
    "  \\cos \\theta & -\\sin \\theta \\\\\n",
    "  \\sin \\theta & \\cos \\theta\n",
    "  \\end{bmatrix}$\n",
    "\n",
    "  is the rotation matrix corresponding to a counterclockwise rotation with an angle *&theta;* about the origin, and\n",
    "\n",
    "  $\\mathbf{t} =\n",
    "  \\begin{bmatrix}\n",
    "  dx \\\\\n",
    "  dy \\\\\n",
    "  \\end{bmatrix}$\n",
    "\n",
    "  is the translation vector.\n",
    "\n",
    "Define a pixel\n",
    "\n",
    "  $\\mathbf{u} =\n",
    "  \\begin{bmatrix}\n",
    "  u \\\\\n",
    "  v \\\\\n",
    "  \\end{bmatrix}$\n",
    "\n",
    "  and obtain the transformed pixel $\\mathbf{u}_{trans}$ by computing the transformation using homogeneous coordinates\n",
    "\n",
    "$\\mathbf{\\tilde u}_{trans} = \\mathbf{E} \\mathbf{\\tilde u}$\n",
    "\n",
    "**Tips**:\n",
    "You might want to convert between degrees and radians.\n",
    "See if you can find the appropriate values and functions in NumPy.\n",
    "\n",
    "Hint: [https://numpy.org/doc/stable/reference/routines.math.html](https://numpy.org/doc/stable/reference/routines.math.html)"
   ]
  },
  {
   "cell_type": "code",
   "execution_count": 22,
   "metadata": {
    "pycharm": {
     "name": "#%%\n"
    }
   },
   "outputs": [
    {
     "name": "stdout",
     "output_type": "stream",
     "text": [
      "Euclidean transformation E = \n",
      "[[  0.8660254  -0.5       100.       ]\n",
      " [  0.5         0.8660254 200.       ]\n",
      " [  0.          0.          1.       ]]\n"
     ]
    }
   ],
   "source": [
    "# TODO: Translation\n",
    "t = np.array([[100],[200]])\n",
    "\n",
    "# TODO: Rotation\n",
    "theta = np.radians(30)\n",
    "c, s = np.cos(theta), np.sin(theta)\n",
    "R = np.array(((c, -s), (s, c)))\n",
    "\n",
    "# TODO: Euclidean transformation that rotates and then translates\n",
    "E = np.block([\n",
    "    [R, t],\n",
    "    [0, 0, 1]\n",
    "])\n",
    "\n",
    "print(f\"Euclidean transformation E = \\n{E}\")"
   ]
  },
  {
   "cell_type": "code",
   "execution_count": 25,
   "metadata": {
    "pycharm": {
     "name": "#%%\n"
    }
   },
   "outputs": [
    {
     "name": "stdout",
     "output_type": "stream",
     "text": [
      "Original pixel u = \n",
      "[[100]\n",
      " [100]]\n",
      "\n",
      "Transformed pixel u_transformed = \n",
      "[[136.60254038]\n",
      " [336.60254038]]\n"
     ]
    }
   ],
   "source": [
    "homogeneous = lambda x: np.append(x, [[1]], axis=0)\n",
    "hnormalized = lambda x: x[:-1]/x[-1]\n",
    "\n",
    "#TODO: Perform the transformation on a pixel u.\n",
    "# Hint: What operator is used for matrix multiplication in NumPy?\n",
    "u = np.array([[100],[100]])\n",
    "u_transformed = hnormalized(E @ homogeneous(u))\n",
    "\n",
    "print(f\"Original pixel u = \\n{u}\\n\")\n",
    "print(f\"Transformed pixel u_transformed = \\n{u_transformed}\")\n"
   ]
  },
  {
   "cell_type": "markdown",
   "metadata": {},
   "source": [
    "\n",
    "## 2. Eigen and OpenCV\n",
    "We can convert between Eigen matrices and OpenCV cv::Mats by using [cv::eigen2cv() and cv::cv2eigen()](https://docs.opencv.org/4.0.1/d0/daf/group__core__eigen.html).\n",
    "\n",
    "- Convert the Eigen matrix **E** to a ```cv::Mat``` using ```cv::eigen2cv()```.\n",
    "\n",
    "## 3. Transform images\n",
    "We will now use this matrix to transform the image below:\n",
    "\n",
    "![This image is provided in lab_01/lab_01_transformations/img_grid.png](../lab_01_transformations/img_grid.png)\n",
    "\n",
    "Notice that you can use the grid and protractor to check your transformations.\n",
    "There is 100 pixels between each grid line, and you can check the rotation by recognizing which protractor line is parallel with the new y-axis.\n",
    "\n",
    "- Read the image using [cv::imread()](https://docs.opencv.org/3.3.1/d4/da8/group__imgcodecs.html#ga288b8b3da0892bd651fce07b3bbd3a56):\n",
    "\n",
    "  ```c++\n",
    "  // Read the image.\n",
    "  cv::Mat img_orig = cv::imread(\"../../lab_01_transformations/img_grid.png\");\n",
    "  if (img_orig.empty())\n",
    "  {\n",
    "    std::cerr << \"Could not find image file\" << std::endl;\n",
    "    return EXIT_FAILURE;\n",
    "  }\n",
    "  ```\n",
    "\n",
    "- Display the original image using [cv::imshow()](https://docs.opencv.org/3.3.1/d7/dfc/group__highgui.html#ga453d42fe4cb60e5723281a89973ee563):\n",
    "\n",
    "  ```c++\n",
    "  // Display the original image.\n",
    "  std::string orig_win_title{\"Lab 1.2: Original image\"};\n",
    "  cv::namedWindow(orig_win_title, cv::WINDOW_NORMAL);\n",
    "  cv::imshow(orig_win_title, img_orig);\n",
    "  ```\n",
    "\n",
    "- Perform the transformation using [cv::warpPerspective()](https://docs.opencv.org/3.3.1/da/d54/group__imgproc__transform.html#gaf73673a7e8e18ec6963e3774e6a94b87):\n",
    "\n",
    "  ```c++\n",
    "  // Perform transformation on the image.\n",
    "  cv::Mat img_trans_E;\n",
    "  cv::warpPerspective(img_orig, img_trans_E, E_cv, img_orig.size(), cv::INTER_CUBIC);\n",
    "  ```\n",
    "\n",
    "  The last two arguments are the output size and interpolation method.\n",
    "\n",
    "- Display the result.\n",
    "- Try different transformations.\n",
    "- Try the *inverse* transformation (how can you easily compute that?).\n",
    "\n",
    "## 4. Composing transformations\n",
    "Have you noticed that the image is rotated around the upper left corner?\n",
    "Why is this so?\n",
    "\n",
    "We can rotate around the image center by first translating the origin to the center, rotating and then translate back by performing the opposite translation.\n",
    "We can compose these transformations to a single transformation by multiplying all corresponding transformation matrices together:\n",
    "\n",
    "![\\mathbf{E}_{composed} = \\mathbf{E}_{corner \\leftarrow center} \\mathbf{E}_{rotate} \\mathbf{E}_{center \\leftarrow corner}](../lab-guide/img/4-composition.png)\n",
    "\n",
    "- Rotate the image about its center by computing the composed transformation above.\n",
    "- Finally, try adding a scaling transformation (zoom) after the rotation. What kind of composed transformation do we obtain then?\n",
    "\n",
    "## Resources\n",
    "- [Eigen documentation main page](http://eigen.tuxfamily.org/dox/)\n",
    "- [Quick reference guide](http://eigen.tuxfamily.org/dox/group__QuickRefPage.html)\n",
    "- [Matlab to Eigen translations](http://eigen.tuxfamily.org/dox/AsciiQuickReference.txt)\n",
    "\n"
   ]
  }
 ],
 "metadata": {
  "kernelspec": {
   "display_name": "Python 3 (ipykernel)",
   "language": "python",
   "name": "python3"
  },
  "language_info": {
   "codemirror_mode": {
    "name": "ipython",
    "version": 3
   },
   "file_extension": ".py",
   "mimetype": "text/x-python",
   "name": "python",
   "nbconvert_exporter": "python",
   "pygments_lexer": "ipython3",
   "version": "3.8.10"
  }
 },
 "nbformat": 4,
 "nbformat_minor": 1
}
