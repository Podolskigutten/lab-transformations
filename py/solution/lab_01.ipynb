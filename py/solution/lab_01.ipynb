{
 "cells": [
  {
   "cell_type": "markdown",
   "source": [
    "# Lab 1: Transformations with NumPy\n",
    "You are now in a Jupyter notebook! It consists of written text, mixed with executable Python code.\n",
    "\n",
    "You are supposed to read from top to bottom, and fill in code in the Python-blocks as you go.\n",
    "\n",
    "## 1. Getting started\n",
    "Familiarize yourself with the [NumPy quickstart](https://numpy.org/doc/stable/user/quickstart.html). You will need it to solve the following tasks!\n",
    "Use the text, examples and links in the quickstart guide.\n",
    "\n",
    "## 2. Get familiar with NumPy\n",
    "First, import NumPy:\n",
    "\n",
    "Press `Shift + Enter` to execute and advance to the next block. Repeat for each block. You can click on a block to edit and run the code again."
   ],
   "metadata": {
    "collapsed": false
   }
  },
  {
   "cell_type": "code",
   "execution_count": 47,
   "metadata": {
    "pycharm": {
     "name": "#%%\n"
    }
   },
   "outputs": [],
   "source": [
    "import numpy as np"
   ]
  },
  {
   "cell_type": "markdown",
   "metadata": {},
   "source": [
    "## a) Create vectors and matrices\n",
    "\n",
    "![a1](../lab-guide/img/a-create-vectors-math.png)\n",
    "\n",
    "![a2](../lab-guide/img/a-create-vectors-math-2.png)\n"
   ]
  },
  {
   "cell_type": "markdown",
   "source": [
    "\n",
    "#### Create vector `t`\n",
    "Hint: [https://numpy.org/doc/stable/user/quickstart.html#array-creation](https://numpy.org/doc/stable/user/quickstart.html#array-creation)"
   ],
   "metadata": {
    "collapsed": false
   }
  },
  {
   "cell_type": "code",
   "execution_count": 44,
   "metadata": {
    "pycharm": {
     "name": "#%%\n"
    }
   },
   "outputs": [
    {
     "name": "stdout",
     "output_type": "stream",
     "text": [
      "t = [1 0 3]\n",
      "shape: (3,)\n",
      "type: <class 'numpy.ndarray'>\n"
     ]
    }
   ],
   "source": [
    "# TODO: Create vector `t`\n",
    "t = np.array([1, 0, 3])\n",
    "print(f\"t = {t}\\nshape: {t.shape}\\ntype: {type(t)}\")"
   ]
  },
  {
   "cell_type": "markdown",
   "source": [
    "It's important to note that the sequence of numbers in a one-dimensional NumPy \"vector\", like `np.array([1, 2, 3])`, is just numbers in a vector space and therefore neither a row nor a column-vector. We can see that its shape is `(3,)`.\n",
    "\n",
    "In order to use it with linear algebra, we have to explicitly go for a 2D representation.\n",
    "\n",
    "#### Try to create `t` as a `N x 1` _column_ vector.\n"
   ],
   "metadata": {
    "collapsed": false
   }
  },
  {
   "cell_type": "code",
   "execution_count": 54,
   "metadata": {
    "pycharm": {
     "name": "#%%\n"
    }
   },
   "outputs": [
    {
     "name": "stdout",
     "output_type": "stream",
     "text": [
      "i)\n",
      "row = [[1 2 3]], shape: (1, 3)\n",
      "col = \n",
      "[[1]\n",
      " [2]\n",
      " [3]], shape: (3, 1)\n",
      "\n",
      "ii)\n",
      "row = [[1 2 3]], shape: (1, 3)\n",
      "col = \n",
      "[[1]\n",
      " [2]\n",
      " [3]], shape: (3, 1)\n",
      "\n",
      "iii)\n",
      "row = [[1 2 3]], shape: (1, 3)\n",
      "col = \n",
      "[[1]\n",
      " [2]\n",
      " [3]], shape: (3, 1)\n",
      "\n",
      "iv)\n",
      "row = [[1 2 3]], shape: (1, 3)\n",
      "col = \n",
      "[[1]\n",
      " [2]\n",
      " [3]], shape: (3, 1)\n",
      "t = \n",
      "[[1]\n",
      " [2]\n",
      " [3]], shape: (3, 1)\n",
      "\n",
      "v)\n",
      "row = [[1 2 3]], shape: (1, 3)\n"
     ]
    }
   ],
   "source": [
    "# TODO: Create 't' as a 'N x 1' column vector\n",
    "# i) Be explicit\n",
    "row = np.array([[1, 2, 3]])               # 1 row with 3 elements. Note the double brackets.\n",
    "col = np.array([[1],[2],[3]])             # 3 rows with 1 element each\n",
    "print(\"i)\")\n",
    "print(f\"row = {row}, shape: {row.shape}\")\n",
    "print(f\"col = \\n{col}, shape: {col.shape}\")\n",
    "\n",
    "# ii) Use shortcuts\n",
    "row = np.r_['r', [1,2,3]]                 # shape: (1, 3)\n",
    "col = np.r_['c', [1,2,3]]                 # shape: (3,1)\n",
    "print(\"\\nii)\")\n",
    "print(f\"row = {row}, shape: {row.shape}\")\n",
    "print(f\"col = \\n{col}, shape: {col.shape}\")\n",
    "\n",
    "# iii)\n",
    "col = np.array([1, 2, 3])[:, None]        # stores in rows\n",
    "row = np.array([1, 2, 3])[None, :]        # stores in columns\n",
    "print(\"\\niii)\")\n",
    "print(f\"row = {row}, shape: {row.shape}\")\n",
    "print(f\"col = \\n{col}, shape: {col.shape}\")\n",
    "\n",
    "# iv) Reshape\n",
    "col = np.array([1, 2, 3]).reshape(-1, 1)  # Reshape to change the 'view' of the data\n",
    "row = np.array([1, 2, 3]).reshape(1, -1)  # Reshape to change the 'view' of the data\n",
    "t = np.array([1, 2, 3])\n",
    "t.shape = (-1, 1)                         # Set the shape later\n",
    "print(\"\\niv)\")\n",
    "print(f\"row = {row}, shape: {row.shape}\")\n",
    "print(f\"col = \\n{col}, shape: {col.shape}\")\n",
    "print(f\"t = \\n{t}, shape: {t.shape}\")\n",
    "\n",
    "# v) Use ndmin\n",
    "row = np.array([1, 2, 3], ndmin=2)          # shape: (1, 3)\n",
    "print(\"\\nv)\")\n",
    "print(f\"row = {row}, shape: {row.shape}\")"
   ]
  },
  {
   "cell_type": "markdown",
   "source": [
    "#### Create matrix `A`"
   ],
   "metadata": {
    "collapsed": false
   }
  },
  {
   "cell_type": "code",
   "execution_count": 55,
   "outputs": [],
   "source": [
    "# TODO: Create matrix A\n",
    "A = np.array([[1, 0, 3],\n",
    "              [4, 5, 6],\n",
    "              [7, 8, 9]])"
   ],
   "metadata": {
    "collapsed": false,
    "pycharm": {
     "name": "#%%\n"
    }
   }
  },
  {
   "cell_type": "markdown",
   "source": [
    "#### Create identity matrix I.\n",
    "Hint: [https://numpy.org/doc/stable/user/quickstart.html#functions-and-methods-overview](https://numpy.org/doc/stable/user/quickstart.html#functions-and-methods-overview)"
   ],
   "metadata": {
    "collapsed": false
   }
  },
  {
   "cell_type": "code",
   "execution_count": 56,
   "outputs": [],
   "source": [
    "# TODO: Create matrix I\n",
    "I = np.eye(3)"
   ],
   "metadata": {
    "collapsed": false,
    "pycharm": {
     "name": "#%%\n"
    }
   }
  },
  {
   "cell_type": "markdown",
   "source": [
    "\n",
    "#### Create matrix T.\n",
    "Hint: [https://numpy.org/doc/stable/user/quickstart.html#stacking-together-different-arrays](https://numpy.org/doc/stable/user/quickstart.html#stacking-together-different-arrays)\n",
    "Hint: [https://numpy.org/doc/stable/reference/generated/numpy.block.html](https://numpy.org/doc/stable/reference/generated/numpy.block.html)"
   ],
   "metadata": {
    "collapsed": false,
    "pycharm": {
     "name": "#%% md\n"
    }
   }
  },
  {
   "cell_type": "code",
   "execution_count": 57,
   "outputs": [
    {
     "name": "stdout",
     "output_type": "stream",
     "text": [
      "T2 = \n",
      "[[1 0 3 1]\n",
      " [4 5 6 2]\n",
      " [7 8 9 3]\n",
      " [0 0 0 1]]\n",
      "np.array_equal(T1, T2): True\n"
     ]
    }
   ],
   "source": [
    "# TODO: Create matrix T\n",
    "T1 = np.row_stack((np.c_[A, t], [0, 0, 0, 1]))  # Nested stacking\n",
    "T2 = np.block([                                 # Using 'block'\n",
    "    [A, t],\n",
    "    [0, 0, 0, 1]\n",
    "])\n",
    "print(f\"T2 = \\n{T2}\\nnp.array_equal(T1, T2): {np.array_equal(T1, T2)}\")"
   ],
   "metadata": {
    "collapsed": false,
    "pycharm": {
     "name": "#%%\n"
    }
   }
  },
  {
   "cell_type": "markdown",
   "source": [
    "#### Create matrix B.\n",
    "Hint: [https://numpy.org/doc/stable/user/quickstart.html#changing-the-shape-of-an-array](https://numpy.org/doc/stable/user/quickstart.html#changing-the-shape-of-an-array)"
   ],
   "metadata": {
    "collapsed": false,
    "pycharm": {
     "name": "#%% md\n"
    }
   }
  },
  {
   "cell_type": "code",
   "execution_count": 58,
   "outputs": [
    {
     "name": "stdout",
     "output_type": "stream",
     "text": [
      "A = \n",
      "[[1 0 3]\n",
      " [4 5 6]\n",
      " [7 8 9]]\n",
      "B = \n",
      "[[1 4 7]\n",
      " [0 5 8]\n",
      " [3 6 9]]\n"
     ]
    }
   ],
   "source": [
    "B = A.T\n",
    "print(f\"A = \\n{A}\\nB = \\n{B}\")"
   ],
   "metadata": {
    "collapsed": false,
    "pycharm": {
     "name": "#%%\n"
    }
   }
  },
  {
   "cell_type": "markdown",
   "source": [
    "## b) Coefficients\n",
    "Set $t_2 = 2$ and $A_{12} = 2$, so that\n",
    "\n",
    "   ![b1](../lab-guide/img/b-coefficients-math.png)\n",
    "\n",
    "Perform the corresponding corrections to **T**, so that we still have\n",
    "\n",
    "   ![b2](../lab-guide/img/b-coefficients-math-T.png)"
   ],
   "metadata": {
    "collapsed": false
   }
  },
  {
   "cell_type": "code",
   "execution_count": 59,
   "outputs": [],
   "source": [
    "# Todo: B\n",
    "# Note python is zero indexed, so t_2 is t[1]\n",
    "t[1] = 2\n",
    "\n",
    "# In the matrix the indexes are A[row, col]\n",
    "A[0, 1] = 2"
   ],
   "metadata": {
    "collapsed": false,
    "pycharm": {
     "name": "#%%\n"
    }
   }
  },
  {
   "cell_type": "markdown",
   "source": [
    "## c) Block operations\n",
    "Extract the row vector\n",
    "\n",
    "![c1](../lab-guide/img/c-row-vector-from-A.png)\n",
    "\n",
    "and the column vector\n",
    "\n",
    "![c2](../lab-guide/img/c-col-vector-from-A.png)\n",
    "\n",
    "from **A**.\n",
    "\n",
    "Extract the submatrix\n",
    "\n",
    "![c3](../lab-guide/img/c-submatrix-T.png)\n",
    "\n",
    "from **T**."
   ],
   "metadata": {
    "collapsed": false
   }
  },
  {
   "cell_type": "code",
   "execution_count": 60,
   "outputs": [],
   "source": [
    "# TODO: r_2\n",
    "# TODO: c_2\n",
    "r_2 = A[1, :]\n",
    "c_2 = A[:, 1]\n",
    "# TODO: T_3x4\n",
    "T = T2\n",
    "T_3x4 = T[0:3]"
   ],
   "metadata": {
    "collapsed": false,
    "pycharm": {
     "name": "#%%\n"
    }
   }
  },
  {
   "cell_type": "markdown",
   "source": [
    "Set the corresponding blocks in **A** and **T** to all `0` (so that the second row and column in **A** are all 0, and the upper 3x4 matrix in **T** is all 0).\n",
    "\n",
    "Hint: [https://numpy.org/doc/stable/user/quickstart.html#copies-and-views](https://numpy.org/doc/stable/user/quickstart.html#copies-and-views)"
   ],
   "metadata": {
    "collapsed": false,
    "pycharm": {
     "name": "#%% md\n"
    }
   }
  },
  {
   "cell_type": "code",
   "execution_count": 61,
   "outputs": [
    {
     "name": "stdout",
     "output_type": "stream",
     "text": [
      "A = \n",
      "[[1 0 3]\n",
      " [0 0 0]\n",
      " [7 0 9]]\n",
      "T = \n",
      "[[0 0 0 0]\n",
      " [0 0 0 0]\n",
      " [0 0 0 0]\n",
      " [0 0 0 1]]\n"
     ]
    }
   ],
   "source": [
    "# TODO\n",
    "r_2[:] = 0\n",
    "c_2[:] = 0\n",
    "T_3x4[:] = 0\n",
    "print(f\"A = \\n{A}\")\n",
    "print(f\"T = \\n{T}\")"
   ],
   "metadata": {
    "collapsed": false,
    "pycharm": {
     "name": "#%%\n"
    }
   }
  },
  {
   "cell_type": "markdown",
   "source": [
    "## d) Matrix and vector arithmetic\n",
    "- Add two vectors\n",
    "- Add two matrices\n",
    "- Multiply two matrices\n",
    "- Take the dot product between two vectors\n",
    "- Take the coefficient-wise multiplication between two matrices\n",
    "\n",
    "Hint: [https://numpy.org/doc/stable/user/quickstart.html#basic-operations](https://numpy.org/doc/stable/user/quickstart.html#basic-operations)"
   ],
   "metadata": {
    "collapsed": false
   }
  },
  {
   "cell_type": "code",
   "execution_count": 62,
   "outputs": [
    {
     "name": "stdout",
     "output_type": "stream",
     "text": [
      "v1: [1 2 3]\n",
      "v2: [3 2 1]\n",
      "v1 + v2 = [4 4 4]\n",
      "A + I = \n",
      "[[ 2.  0.  3.]\n",
      " [ 0.  1.  0.]\n",
      " [ 7.  0. 10.]]\n",
      "(A+I) * T_3x4 =\n",
      "[[0. 0. 0. 0.]\n",
      " [0. 0. 0. 0.]\n",
      " [0. 0. 0. 0.]]\n",
      "v1.transpose() * v2 = [3 4 3]\n",
      "v1.transpose() @ v2 = 10\n",
      "v1.dot(v2) = 10\n",
      "Element-wise B * I =\n",
      "[[1. 0. 0.]\n",
      " [0. 0. 0.]\n",
      " [0. 0. 9.]]\n"
     ]
    }
   ],
   "source": [
    "v1 = np.array([1, 2, 3])\n",
    "v2 = np.array([3, 2, 1])\n",
    "print(f\"v1: {v1}\\nv2: {v2}\")\n",
    "print(f\"v1 + v2 = {v1 + v2}\")\n",
    "print(f\"A + I = \\n{A + I}\")\n",
    "print(f\"(A+I) * T_3x4 =\\n{(A+I) @ T_3x4}\")\n",
    "print(f\"v1.transpose() * v2 = {v1.transpose() * v2}\")\n",
    "print(f\"v1.transpose() @ v2 = {v1.transpose() @ v2}\")\n",
    "print(f\"v1.dot(v2) = {v1.dot(v2)}\")\n",
    "print(f\"Element-wise B * I =\\n{B * I}\")\n"
   ],
   "metadata": {
    "collapsed": false,
    "pycharm": {
     "name": "#%%\n"
    }
   }
  },
  {
   "cell_type": "markdown",
   "source": [
    "## e) Reductions\n",
    "- Take the sum of all elements in a matrix\n",
    "- Compute the minimum value in a matrix\n",
    "    - Also, find its position in the matrix\n",
    "- Create a vector that is the maximum of each column in a matrix\n",
    "- Find the L2-norm of a vector\n",
    "- Find the number of elements in a vector that is greater than a given value."
   ],
   "metadata": {
    "collapsed": false
   }
  },
  {
   "cell_type": "code",
   "execution_count": 63,
   "outputs": [
    {
     "name": "stdout",
     "output_type": "stream",
     "text": [
      "A:\n",
      "[[10 11 12]\n",
      " [13 14 15]\n",
      " [16 17  5]]\n",
      "sum of A: 113\n",
      "minimum of A: 5 at index 8, or (2, 2)\n",
      "maximum of each column in A: [16 17 15]\n",
      "L2 norm of [1 1] is 1.4142135623730951\n",
      "v: [ 0 10  2 13  4 15  6 17  8 19], greater than 10: 4\n"
     ]
    }
   ],
   "source": [
    "A = np.arange(10, 19).reshape(3, 3)\n",
    "A[2, 2] = 5\n",
    "print(f\"A:\\n{A}\")\n",
    "\n",
    "# TODO: Take the sum of all elements in a matrix\n",
    "# https://numpy.org/doc/stable/user/quickstart.html#basic-operations\n",
    "print(f\"sum of A: {A.sum()}\")\n",
    "\n",
    "# TODO: Compute the minimum value in a matrix\n",
    "# TODO: Also, find its position in the matrix.\n",
    "print(f\"minimum of A: {A.min()} at index {A.argmin()}, or {np.unravel_index(A.argmin(), A.shape)}\")\n",
    "\n",
    "# TODO: Create a vector that is the maximum of each column in a matrix.\n",
    "print(f\"maximum of each column in A: {A.max(0)}\")\n",
    "\n",
    "# TODO: Find the L2-norm of a vector.\n",
    "v = np.array([1, 1])\n",
    "print(f\"L2 norm of {v} is {np.linalg.norm(v)}\")\n",
    "\n",
    "# TODO: Find the number of elements in a vector that is greater than a given value.\n",
    "# https://numpy.org/doc/stable/user/quickstart.html#changing-the-shape-of-an-array\n",
    "v = np.array([0, 10, 2, 13, 4, 15, 6, 17, 8, 19])\n",
    "print(f\"v: {v}, greater than 10: {(v > 10).sum()}\")"
   ],
   "metadata": {
    "collapsed": false,
    "pycharm": {
     "name": "#%%\n"
    }
   }
  },
  {
   "cell_type": "markdown",
   "source": [
    "Now that you have gotten to know NumPy, let's use it to transform images in the next part of the lab!"
   ],
   "metadata": {
    "collapsed": false,
    "pycharm": {
     "name": "#%% md\n"
    }
   }
  }
 ],
 "metadata": {
  "kernelspec": {
   "display_name": "Python 3 (ipykernel)",
   "language": "python",
   "name": "python3"
  },
  "language_info": {
   "codemirror_mode": {
    "name": "ipython",
    "version": 3
   },
   "file_extension": ".py",
   "mimetype": "text/x-python",
   "name": "python",
   "nbconvert_exporter": "python",
   "pygments_lexer": "ipython3",
   "version": "3.8.10"
  }
 },
 "nbformat": 4,
 "nbformat_minor": 1
}