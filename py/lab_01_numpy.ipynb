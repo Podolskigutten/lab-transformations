{
 "cells": [
  {
   "cell_type": "markdown",
   "source": [
    "# Lab 1: Transformations with NumPy\n",
    "You are now in a Jupyter notebook! It consists of written text, mixed with executable Python code.\n",
    "\n",
    "You are supposed to read from top to bottom, and fill in code in the Python-blocks as you go.\n",
    "\n",
    "## 1. Getting started\n",
    "Familiarize yourself with the [NumPy quickstart](https://numpy.org/doc/stable/user/quickstart.html). You will need it to solve the following tasks.\n",
    "Use the text, examples and links in the quickstart guide.\n",
    "\n",
    "## 2. Get familiar with NumPy\n",
    "First, import NumPy:\n",
    "\n",
    "Press `Shift + Enter` to execute and advance to the next block. Repeat for each block. You can click on a block to edit and run the code again.\n",
    "Press `Ctrl + Enter` to execute the current block without advancing."
   ],
   "metadata": {
    "collapsed": false
   }
  },
  {
   "cell_type": "code",
   "execution_count": null,
   "metadata": {
    "pycharm": {
     "name": "#%%\n"
    }
   },
   "outputs": [],
   "source": [
    "import numpy as np"
   ]
  },
  {
   "cell_type": "markdown",
   "metadata": {},
   "source": [
    "## a) Create vectors and matrices\n",
    "#### Create vector `t`\n",
    "\n",
    "$\\mathbf{t} =\n",
    "\\begin{bmatrix}\n",
    "1 \\\\\n",
    "0 \\\\\n",
    "3\n",
    "\\end{bmatrix}\n",
    "$\n",
    "\n",
    "Hint: [https://numpy.org/doc/stable/user/quickstart.html#array-creation](https://numpy.org/doc/stable/user/quickstart.html#array-creation)"
   ]
  },
  {
   "cell_type": "code",
   "execution_count": null,
   "metadata": {
    "pycharm": {
     "name": "#%%\n"
    }
   },
   "outputs": [],
   "source": [
    "# TODO: Create vector `t`\n",
    "t = None\n",
    "print(f\"t = {t}\\nshape: {t.shape}\\ntype: {type(t)}\")"
   ]
  },
  {
   "cell_type": "markdown",
   "source": [
    "It's important to note that the sequence of numbers in a one-dimensional NumPy \"vector\", like `np.array([1, 2, 3])`, is just numbers in a vector space and therefore neither a row nor a column-vector. We can see that its shape is `(3,)`.\n",
    "\n",
    "In order to use it with linear algebra, we have to explicitly go for a 2D representation.\n",
    "\n",
    "#### Try to create `t` as a `N x 1` _column_ vector.\n"
   ],
   "metadata": {
    "collapsed": false
   }
  },
  {
   "cell_type": "code",
   "execution_count": null,
   "metadata": {
    "pycharm": {
     "name": "#%%\n"
    }
   },
   "outputs": [],
   "source": [
    "# TODO: Create 't' as a 'N x 1' column vector\n",
    "\n",
    "print(f\"\\nt = \\n{t}\\nshape: {t.shape}\")"
   ]
  },
  {
   "cell_type": "markdown",
   "source": [
    "#### Create matrix `A`\n",
    "\n",
    "$\n",
    "\\mathbf{A} =\n",
    "\\begin{bmatrix}\n",
    "1 & 0 & 3\\\\\n",
    "4 & 5 & 6 \\\\\n",
    "7 & 8 & 9\n",
    "\\end{bmatrix}\n",
    "$"
   ],
   "metadata": {
    "collapsed": false
   }
  },
  {
   "cell_type": "code",
   "execution_count": null,
   "outputs": [],
   "source": [
    "# TODO: Create matrix A\n",
    "A = None\n",
    "print(f\"A:\\n{A}\")"
   ],
   "metadata": {
    "collapsed": false,
    "pycharm": {
     "name": "#%%\n"
    }
   }
  },
  {
   "cell_type": "markdown",
   "source": [
    "#### Create identity matrix I.\n",
    "\n",
    "$\n",
    "\\mathbf{I}=\n",
    "\\begin{bmatrix}\n",
    "1 & 0 & 0\\\\\n",
    "0 & 1 & 0 \\\\\n",
    "0 & 0 & 1\n",
    "\\end{bmatrix}\n",
    "$\n",
    "\n",
    "Hint: [https://numpy.org/doc/stable/user/quickstart.html#functions-and-methods-overview](https://numpy.org/doc/stable/user/quickstart.html#functions-and-methods-overview)"
   ],
   "metadata": {
    "collapsed": false
   }
  },
  {
   "cell_type": "code",
   "execution_count": null,
   "outputs": [],
   "source": [
    "# TODO: Create matrix I\n",
    "I = None\n",
    "print(f\"I:\\n{I}\")"
   ],
   "metadata": {
    "collapsed": false,
    "pycharm": {
     "name": "#%%\n"
    }
   }
  },
  {
   "cell_type": "markdown",
   "source": [
    "\n",
    "#### Create matrix T.\n",
    "\n",
    "$\n",
    "\\mathbf{T} =\n",
    "\\begin{bmatrix}\n",
    "\\mathbf{A} & \\mathbf{t} \\\\\n",
    "\\mathbf{0} & 1\n",
    "\\end{bmatrix}\n",
    "$\n",
    "\n",
    "Hint: [https://numpy.org/doc/stable/user/quickstart.html#stacking-together-different-arrays](https://numpy.org/doc/stable/user/quickstart.html#stacking-together-different-arrays)\n",
    "Hint: [https://numpy.org/doc/stable/reference/generated/numpy.block.html](https://numpy.org/doc/stable/reference/generated/numpy.block.html)"
   ],
   "metadata": {
    "collapsed": false,
    "pycharm": {
     "name": "#%% md\n"
    }
   }
  },
  {
   "cell_type": "code",
   "execution_count": null,
   "outputs": [],
   "source": [
    "# TODO: Create T\n",
    "T = None\n",
    "print(f\"T:\\n{T}\")"
   ],
   "metadata": {
    "collapsed": false,
    "pycharm": {
     "name": "#%%\n"
    }
   }
  },
  {
   "cell_type": "markdown",
   "source": [
    "#### Create matrix B.\n",
    "\n",
    "$\n",
    "\\mathbf{B} = \\mathbf{A}^T\n",
    "$\n",
    "\n",
    "Hint: [https://numpy.org/doc/stable/user/quickstart.html#changing-the-shape-of-an-array](https://numpy.org/doc/stable/user/quickstart.html#changing-the-shape-of-an-array)"
   ],
   "metadata": {
    "collapsed": false,
    "pycharm": {
     "name": "#%% md\n"
    }
   }
  },
  {
   "cell_type": "code",
   "execution_count": null,
   "outputs": [],
   "source": [
    "# Todo: B\n",
    "B = None\n",
    "print(f\"A = \\n{A}\\nB = \\n{B}\")"
   ],
   "metadata": {
    "collapsed": false,
    "pycharm": {
     "name": "#%%\n"
    }
   }
  },
  {
   "cell_type": "markdown",
   "source": [
    "## b) Coefficients\n",
    "Set $t_2 = 2$ and $A_{12} = 2$, so that\n",
    "\n",
    "   $\\mathbf{t} =\n",
    "    \\begin{bmatrix}\n",
    "    1 \\\\\n",
    "    2 \\\\\n",
    "    3\n",
    "    \\end{bmatrix},\n",
    "    \\:\n",
    "    \\mathbf{A} =\n",
    "    \\begin{bmatrix}\n",
    "    1 & 2 & 3\\\\\n",
    "    4 & 5 & 6 \\\\\n",
    "    7 & 8 & 9\n",
    "    \\end{bmatrix}$\n",
    "\n",
    "Perform the corresponding corrections to **T**, so that we still have\n",
    "\n",
    "   $\\mathbf{T} =\n",
    "    \\begin{bmatrix}\n",
    "    \\mathbf{A} & \\mathbf{t} \\\\\n",
    "    \\mathbf{0} & 1\n",
    "    \\end{bmatrix}$\n",
    "\n",
    "But hey, what happened to **B**?"
   ],
   "metadata": {
    "collapsed": false
   }
  },
  {
   "cell_type": "code",
   "execution_count": null,
   "outputs": [],
   "source": [
    "# TODO: Solve b)\n",
    "print(f\"t:\\n{t}\\nA:\\n{A},\\nB:\\n{B}\")"
   ],
   "metadata": {
    "collapsed": false,
    "pycharm": {
     "name": "#%%\n"
    }
   }
  },
  {
   "cell_type": "markdown",
   "source": [
    "## c) Block operations\n",
    "Extract the row vector\n",
    "\n",
    "$\\mathbf{r}_2 = \\begin{bmatrix}A_{21} & A_{22} & A_{23}\\end{bmatrix}$\n",
    "\n",
    "and the column vector\n",
    "\n",
    "$\\mathbf{c}_2 = \\begin{bmatrix}A_{12} \\\\ A_{22} \\\\ A_{32} \\end{bmatrix}$\n",
    "\n",
    "from **A**.\n",
    "\n",
    "Extract the submatrix\n",
    "\n",
    "$\\mathbf{T}_{3 \\times 4} = \\begin{bmatrix}\\mathbf{A} & \\mathbf{t}\\end{bmatrix}$\n",
    "\n",
    "from **T**."
   ],
   "metadata": {
    "collapsed": false
   }
  },
  {
   "cell_type": "code",
   "execution_count": null,
   "outputs": [],
   "source": [
    "# TODO: r_2\n",
    "r_2 = None\n",
    "# TODO: c_2\n",
    "c_2 = None\n",
    "# TODO: T_3x4\n",
    "T_3x4 = None"
   ],
   "metadata": {
    "collapsed": false,
    "pycharm": {
     "name": "#%%\n"
    }
   }
  },
  {
   "cell_type": "markdown",
   "source": [
    "Set the corresponding blocks in **A** and **T** to all `0` (so that the second row and column in **A** are all 0, and the upper 3x4 matrix in **T** is all 0).\n",
    "\n",
    "Hint: [https://numpy.org/doc/stable/user/quickstart.html#copies-and-views](https://numpy.org/doc/stable/user/quickstart.html#copies-and-views)"
   ],
   "metadata": {
    "collapsed": false,
    "pycharm": {
     "name": "#%% md\n"
    }
   }
  },
  {
   "cell_type": "code",
   "execution_count": null,
   "outputs": [],
   "source": [
    "# TODO set 0\n",
    "\n",
    "print(f\"A = \\n{A}\")\n",
    "print(f\"T = \\n{T}\")"
   ],
   "metadata": {
    "collapsed": false,
    "pycharm": {
     "name": "#%%\n"
    }
   }
  },
  {
   "cell_type": "markdown",
   "source": [
    "## d) Matrix and vector arithmetic\n",
    "- Add two vectors\n",
    "- Add two matrices\n",
    "- Multiply two matrices\n",
    "- Take the dot product between two vectors\n",
    "- Take the coefficient-wise multiplication between two matrices\n",
    "\n",
    "Hint: [https://numpy.org/doc/stable/user/quickstart.html#basic-operations](https://numpy.org/doc/stable/user/quickstart.html#basic-operations)"
   ],
   "metadata": {
    "collapsed": false
   }
  },
  {
   "cell_type": "code",
   "execution_count": null,
   "outputs": [],
   "source": [
    "v1 = None\n",
    "v2 = None\n",
    "M = None\n",
    "N = None\n",
    "print(f\"v1: {v1}\\nv2: {v2}\\n\")\n",
    "print(f\"M:\\n{M}\\nN:\\n{N}\\n\")\n",
    "\n",
    "print(f\"v1 + v2 = {v1 + v2}\\n\")\n",
    "\n",
    "print(f\"M + N = \\n{M + N}\\n\")\n",
    "\n",
    "print(f\"(M+N) * M =\\n{(M+N) @ M}\\n\")\n",
    "\n",
    "print(f\"v1 dot v2 = {v1.dot(v2)}\")\n",
    "\n",
    "print(f\"Element-wise M * N =\\n{M * N}\")\n"
   ],
   "metadata": {
    "collapsed": false,
    "pycharm": {
     "name": "#%%\n"
    }
   }
  },
  {
   "cell_type": "markdown",
   "source": [
    "## e) Reductions\n",
    "- Take the sum of all elements in a matrix\n",
    "- Compute the minimum value in a matrix\n",
    "    - Also, find its position in the matrix\n",
    "- Create a vector that is the maximum of each column in a matrix\n",
    "- Find the L2-norm of a vector\n",
    "- Find the number of elements in a vector that is greater than a given value."
   ],
   "metadata": {
    "collapsed": false
   }
  },
  {
   "cell_type": "code",
   "execution_count": null,
   "outputs": [],
   "source": [
    "# Replace 'None' with valid expressions\n",
    "\n",
    "# TODO: Take the sum of all elements in a matrix\n",
    "# https://numpy.org/doc/stable/user/quickstart.html#basic-operations\n",
    "print(f\"sum of A: {None}\")\n",
    "\n",
    "# TODO: Compute the minimum value in a matrix\n",
    "# TODO: Also, find its position in the matrix.\n",
    "print(f\"minimum of A: {None} \"\n",
    "      f\"at index {None}, \"\n",
    "      f\"(or {None} in 2D)\")\n",
    "\n",
    "# TODO: Create a vector that is the maximum of each column in a matrix.\n",
    "print(f\"maximum of each column in A: {None}\")\n",
    "\n",
    "# TODO: Find the L2-norm of a vector.\n",
    "v1 = None\n",
    "print(f\"L2 norm of {v1} is {None}\")\n",
    "\n",
    "# TODO: Find the number of elements in a vector that is greater than a given value.\n",
    "# https://numpy.org/doc/stable/user/quickstart.html#changing-the-shape-of-an-array\n",
    "v2 = None\n",
    "print(f\"v2: {v2},\\n\"\n",
    "      f\"    {None} elements are greater than 10\")"
   ],
   "metadata": {
    "collapsed": false,
    "pycharm": {
     "name": "#%%\n"
    }
   }
  },
  {
   "cell_type": "markdown",
   "source": [
    "Now that you have gotten to know NumPy, let's use it to transform images in the [next part of the lab](lab_01_transformations.ipynb)!"
   ],
   "metadata": {
    "collapsed": false,
    "pycharm": {
     "name": "#%% md\n"
    }
   }
  }
 ],
 "metadata": {
  "kernelspec": {
   "display_name": "Python 3 (ipykernel)",
   "language": "python",
   "name": "python3"
  },
  "language_info": {
   "codemirror_mode": {
    "name": "ipython",
    "version": 3
   },
   "file_extension": ".py",
   "mimetype": "text/x-python",
   "name": "python",
   "nbconvert_exporter": "python",
   "pygments_lexer": "ipython3",
   "version": "3.8.10"
  }
 },
 "nbformat": 4,
 "nbformat_minor": 1
}