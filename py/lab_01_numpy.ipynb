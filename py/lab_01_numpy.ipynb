{
 "cells": [
  {
   "cell_type": "markdown",
   "source": [
    "# Lab 1: Transformations with NumPy\n",
    "You are now in a Jupyter notebook! It consists of written text, mixed with executable Python code.\n",
    "\n",
    "You are supposed to read from top to bottom, and fill in code in the Python-blocks as you go.\n",
    "\n",
    "## 1. Getting started\n",
    "Familiarize yourself with the [NumPy quickstart](https://numpy.org/doc/stable/user/quickstart.html). You will need it to solve the following tasks.\n",
    "Use the text, examples and links in the quickstart guide.\n",
    "\n",
    "## 2. Get familiar with NumPy\n",
    "First, import NumPy:\n",
    "\n",
    "Press `Shift + Enter` to execute and advance to the next block. Repeat for each block. You can click on a block to edit and run the code again.\n",
    "Press `Ctrl + Enter` to execute the current block without advancing."
   ],
   "metadata": {
    "collapsed": false
   }
  },
  {
   "cell_type": "code",
   "execution_count": 3,
   "metadata": {
    "pycharm": {
     "name": "#%%\n"
    }
   },
   "outputs": [],
   "source": [
    "import numpy as np"
   ]
  },
  {
   "cell_type": "markdown",
   "metadata": {},
   "source": [
    "## a) Create vectors and matrices\n",
    "#### Create vector `t`\n",
    "\n",
    "$\\mathbf{t} =\n",
    "\\begin{bmatrix}\n",
    "1 \\\\\n",
    "0 \\\\\n",
    "3\n",
    "\\end{bmatrix}\n",
    "$\n",
    "\n",
    "Hint: [https://numpy.org/doc/stable/user/quickstart.html#array-creation](https://numpy.org/doc/stable/user/quickstart.html#array-creation)"
   ]
  },
  {
   "cell_type": "code",
   "execution_count": 61,
   "metadata": {
    "pycharm": {
     "name": "#%%\n"
    }
   },
   "outputs": [
    {
     "name": "stdout",
     "output_type": "stream",
     "text": [
      "t = [1 0 3]\n",
      "shape: (3,)\n",
      "type: <class 'numpy.ndarray'>\n"
     ]
    }
   ],
   "source": [
    "# TODO: Create vector `t`\n",
    "t = None\n",
    "print(f\"t = {t}\\nshape: {t.shape}\\ntype: {type(t)}\")"
   ]
  },
  {
   "cell_type": "markdown",
   "source": [
    "It's important to note that the sequence of numbers in a one-dimensional NumPy \"vector\", like `np.array([1, 2, 3])`, is just numbers in a vector space and therefore neither a row nor a column-vector. We can see that its shape is `(3,)`.\n",
    "\n",
    "In order to use it with linear algebra, we have to explicitly go for a 2D representation.\n",
    "\n",
    "#### Try to create `t` as a `N x 1` _column_ vector.\n"
   ],
   "metadata": {
    "collapsed": false
   }
  },
  {
   "cell_type": "code",
   "execution_count": 62,
   "metadata": {
    "pycharm": {
     "name": "#%%\n"
    }
   },
   "outputs": [
    {
     "name": "stdout",
     "output_type": "stream",
     "text": [
      "Explicit\n",
      "row = [[1 2 3]], shape: (1, 3)\n",
      "col = \n",
      "[[1]\n",
      " [2]\n",
      " [3]], shape: (3, 1)\n",
      "\n",
      "Transpose:\n",
      "col2 = \n",
      "[[1]\n",
      " [2]\n",
      " [3]], shape: (3, 1)\n",
      "\n",
      "Shortcuts\n",
      "row = [[1 2 3]], shape: (1, 3)\n",
      "col = \n",
      "[[1]\n",
      " [2]\n",
      " [3]], shape: (3, 1)\n",
      "\n",
      "Reshape\n",
      "row = [[0 1 2 3 4 5 6 7]], shape: (1, 8)\n",
      "col = \n",
      "[[0]\n",
      " [1]\n",
      " [2]\n",
      " [3]\n",
      " [4]\n",
      " [5]\n",
      " [6]\n",
      " [7]], shape: (8, 1)\n",
      "\n",
      "Increase dimension\n",
      "row = [[1 2 3]], shape: (1, 3)\n",
      "col = \n",
      "[[1]\n",
      " [2]\n",
      " [3]], shape: (3, 1)\n",
      "\n",
      "t = \n",
      "[[1]\n",
      " [0]\n",
      " [3]]\n",
      "shape: (3, 1)\n"
     ]
    }
   ],
   "source": [
    "# TODO: Create 't' as a 'N x 1' column vector\n",
    "\n",
    "print(f\"\\nt = \\n{t}\\nshape: {t.shape}\")"
   ]
  },
  {
   "cell_type": "markdown",
   "source": [
    "#### Create matrix `A`\n",
    "\n",
    "$\n",
    "\\mathbf{A} =\n",
    "\\begin{bmatrix}\n",
    "1 & 0 & 3\\\\\n",
    "4 & 5 & 6 \\\\\n",
    "7 & 8 & 9\n",
    "\\end{bmatrix}\n",
    "$"
   ],
   "metadata": {
    "collapsed": false
   }
  },
  {
   "cell_type": "code",
   "execution_count": 5,
   "outputs": [
    {
     "name": "stdout",
     "output_type": "stream",
     "text": [
      "A:\n",
      "None\n"
     ]
    }
   ],
   "source": [
    "# TODO: Create matrix A\n",
    "A = None\n",
    "print(f\"A:\\n{A}\")"
   ],
   "metadata": {
    "collapsed": false,
    "pycharm": {
     "name": "#%%\n"
    }
   }
  },
  {
   "cell_type": "markdown",
   "source": [
    "#### Create identity matrix I.\n",
    "\n",
    "$\n",
    "\\mathbf{I}=\n",
    "\\begin{bmatrix}\n",
    "1 & 0 & 0\\\\\n",
    "0 & 1 & 0 \\\\\n",
    "0 & 0 & 1\n",
    "\\end{bmatrix}\n",
    "$\n",
    "\n",
    "Hint: [https://numpy.org/doc/stable/user/quickstart.html#functions-and-methods-overview](https://numpy.org/doc/stable/user/quickstart.html#functions-and-methods-overview)"
   ],
   "metadata": {
    "collapsed": false
   }
  },
  {
   "cell_type": "code",
   "execution_count": 6,
   "outputs": [
    {
     "name": "stdout",
     "output_type": "stream",
     "text": [
      "I:\n",
      "None\n"
     ]
    }
   ],
   "source": [
    "# TODO: Create matrix I\n",
    "I = None\n",
    "print(f\"I:\\n{I}\")"
   ],
   "metadata": {
    "collapsed": false,
    "pycharm": {
     "name": "#%%\n"
    }
   }
  },
  {
   "cell_type": "markdown",
   "source": [
    "\n",
    "#### Create matrix T.\n",
    "\n",
    "$\n",
    "\\mathbf{T} =\n",
    "\\begin{bmatrix}\n",
    "\\mathbf{A} & \\mathbf{t} \\\\\n",
    "\\mathbf{0} & 1\n",
    "\\end{bmatrix}\n",
    "$\n",
    "\n",
    "Hint: [https://numpy.org/doc/stable/user/quickstart.html#stacking-together-different-arrays](https://numpy.org/doc/stable/user/quickstart.html#stacking-together-different-arrays)\n",
    "Hint: [https://numpy.org/doc/stable/reference/generated/numpy.block.html](https://numpy.org/doc/stable/reference/generated/numpy.block.html)"
   ],
   "metadata": {
    "collapsed": false,
    "pycharm": {
     "name": "#%% md\n"
    }
   }
  },
  {
   "cell_type": "code",
   "execution_count": 8,
   "outputs": [
    {
     "name": "stdout",
     "output_type": "stream",
     "text": [
      "T:\n",
      "None\n"
     ]
    }
   ],
   "source": [
    "# TODO: Create T\n",
    "T = None\n",
    "print(f\"T:\\n{T}\")"
   ],
   "metadata": {
    "collapsed": false,
    "pycharm": {
     "name": "#%%\n"
    }
   }
  },
  {
   "cell_type": "markdown",
   "source": [
    "#### Create matrix B.\n",
    "\n",
    "$\n",
    "\\mathbf{B} = \\mathbf{A}^T\n",
    "$\n",
    "\n",
    "Hint: [https://numpy.org/doc/stable/user/quickstart.html#changing-the-shape-of-an-array](https://numpy.org/doc/stable/user/quickstart.html#changing-the-shape-of-an-array)"
   ],
   "metadata": {
    "collapsed": false,
    "pycharm": {
     "name": "#%% md\n"
    }
   }
  },
  {
   "cell_type": "code",
   "execution_count": 9,
   "outputs": [
    {
     "name": "stdout",
     "output_type": "stream",
     "text": [
      "A = \n",
      "None\n",
      "B = \n",
      "None\n"
     ]
    }
   ],
   "source": [
    "# Todo: B\n",
    "B = None\n",
    "print(f\"A = \\n{A}\\nB = \\n{B}\")"
   ],
   "metadata": {
    "collapsed": false,
    "pycharm": {
     "name": "#%%\n"
    }
   }
  },
  {
   "cell_type": "markdown",
   "source": [
    "## b) Coefficients\n",
    "Set $t_2 = 2$ and $A_{12} = 2$, so that\n",
    "\n",
    "   $\\mathbf{t} =\n",
    "    \\begin{bmatrix}\n",
    "    1 \\\\\n",
    "    2 \\\\\n",
    "    3\n",
    "    \\end{bmatrix},\n",
    "    \\:\n",
    "    \\mathbf{A} =\n",
    "    \\begin{bmatrix}\n",
    "    1 & 2 & 3\\\\\n",
    "    4 & 5 & 6 \\\\\n",
    "    7 & 8 & 9\n",
    "    \\end{bmatrix}$\n",
    "\n",
    "Perform the corresponding corrections to **T**, so that we still have\n",
    "\n",
    "   $\\mathbf{T} =\n",
    "    \\begin{bmatrix}\n",
    "    \\mathbf{A} & \\mathbf{t} \\\\\n",
    "    \\mathbf{0} & 1\n",
    "    \\end{bmatrix}$\n",
    "\n",
    "But hey, what happened to **B**?"
   ],
   "metadata": {
    "collapsed": false
   }
  },
  {
   "cell_type": "code",
   "execution_count": 10,
   "outputs": [
    {
     "name": "stdout",
     "output_type": "stream",
     "text": [
      "t:\n",
      "None\n",
      "A:\n",
      "None,\n",
      "B:\n",
      "None\n"
     ]
    }
   ],
   "source": [
    "# TODO: Solve b)\n",
    "print(f\"t:\\n{t}\\nA:\\n{A},\\nB:\\n{B}\")"
   ],
   "metadata": {
    "collapsed": false,
    "pycharm": {
     "name": "#%%\n"
    }
   }
  },
  {
   "cell_type": "markdown",
   "source": [
    "## c) Block operations\n",
    "Extract the row vector\n",
    "\n",
    "$\\mathbf{r}_2 = \\begin{bmatrix}A_{21} & A_{22} & A_{23}\\end{bmatrix}$\n",
    "\n",
    "and the column vector\n",
    "\n",
    "$\\mathbf{c}_2 = \\begin{bmatrix}A_{12} \\\\ A_{22} \\\\ A_{32} \\end{bmatrix}$\n",
    "\n",
    "from **A**.\n",
    "\n",
    "Extract the submatrix\n",
    "\n",
    "$\\mathbf{T}_{3 \\times 4} = \\begin{bmatrix}\\mathbf{A} & \\mathbf{t}\\end{bmatrix}$\n",
    "\n",
    "from **T**."
   ],
   "metadata": {
    "collapsed": false
   }
  },
  {
   "cell_type": "code",
   "execution_count": 11,
   "outputs": [],
   "source": [
    "# TODO: r_2\n",
    "r_2 = None\n",
    "# TODO: c_2\n",
    "c_2 = None\n",
    "# TODO: T_3x4\n",
    "T_3x4 = None"
   ],
   "metadata": {
    "collapsed": false,
    "pycharm": {
     "name": "#%%\n"
    }
   }
  },
  {
   "cell_type": "markdown",
   "source": [
    "Set the corresponding blocks in **A** and **T** to all `0` (so that the second row and column in **A** are all 0, and the upper 3x4 matrix in **T** is all 0).\n",
    "\n",
    "Hint: [https://numpy.org/doc/stable/user/quickstart.html#copies-and-views](https://numpy.org/doc/stable/user/quickstart.html#copies-and-views)"
   ],
   "metadata": {
    "collapsed": false,
    "pycharm": {
     "name": "#%% md\n"
    }
   }
  },
  {
   "cell_type": "code",
   "execution_count": 12,
   "outputs": [
    {
     "name": "stdout",
     "output_type": "stream",
     "text": [
      "A = \n",
      "None\n",
      "T = \n",
      "None\n"
     ]
    }
   ],
   "source": [
    "# TODO set 0\n",
    "\n",
    "print(f\"A = \\n{A}\")\n",
    "print(f\"T = \\n{T}\")"
   ],
   "metadata": {
    "collapsed": false,
    "pycharm": {
     "name": "#%%\n"
    }
   }
  },
  {
   "cell_type": "markdown",
   "source": [
    "## d) Matrix and vector arithmetic\n",
    "- Add two vectors\n",
    "- Add two matrices\n",
    "- Multiply two matrices\n",
    "- Take the dot product between two vectors\n",
    "- Take the coefficient-wise multiplication between two matrices\n",
    "\n",
    "Hint: [https://numpy.org/doc/stable/user/quickstart.html#basic-operations](https://numpy.org/doc/stable/user/quickstart.html#basic-operations)"
   ],
   "metadata": {
    "collapsed": false
   }
  },
  {
   "cell_type": "code",
   "execution_count": 13,
   "outputs": [
    {
     "name": "stdout",
     "output_type": "stream",
     "text": [
      "v1: None\n",
      "v2: None\n",
      "\n",
      "M:\n",
      "None\n",
      "N:\n",
      "None\n",
      "\n"
     ]
    },
    {
     "ename": "TypeError",
     "evalue": "unsupported operand type(s) for +: 'NoneType' and 'NoneType'",
     "output_type": "error",
     "traceback": [
      "\u001B[0;31m---------------------------------------------------------------------------\u001B[0m",
      "\u001B[0;31mTypeError\u001B[0m                                 Traceback (most recent call last)",
      "Input \u001B[0;32mIn [13]\u001B[0m, in \u001B[0;36m<module>\u001B[0;34m\u001B[0m\n\u001B[1;32m      5\u001B[0m \u001B[38;5;28mprint\u001B[39m(\u001B[38;5;124mf\u001B[39m\u001B[38;5;124m\"\u001B[39m\u001B[38;5;124mv1: \u001B[39m\u001B[38;5;132;01m{\u001B[39;00mv1\u001B[38;5;132;01m}\u001B[39;00m\u001B[38;5;130;01m\\n\u001B[39;00m\u001B[38;5;124mv2: \u001B[39m\u001B[38;5;132;01m{\u001B[39;00mv2\u001B[38;5;132;01m}\u001B[39;00m\u001B[38;5;130;01m\\n\u001B[39;00m\u001B[38;5;124m\"\u001B[39m)\n\u001B[1;32m      6\u001B[0m \u001B[38;5;28mprint\u001B[39m(\u001B[38;5;124mf\u001B[39m\u001B[38;5;124m\"\u001B[39m\u001B[38;5;124mM:\u001B[39m\u001B[38;5;130;01m\\n\u001B[39;00m\u001B[38;5;132;01m{\u001B[39;00mM\u001B[38;5;132;01m}\u001B[39;00m\u001B[38;5;130;01m\\n\u001B[39;00m\u001B[38;5;124mN:\u001B[39m\u001B[38;5;130;01m\\n\u001B[39;00m\u001B[38;5;132;01m{\u001B[39;00mN\u001B[38;5;132;01m}\u001B[39;00m\u001B[38;5;130;01m\\n\u001B[39;00m\u001B[38;5;124m\"\u001B[39m)\n\u001B[0;32m----> 8\u001B[0m \u001B[38;5;28mprint\u001B[39m(\u001B[38;5;124mf\u001B[39m\u001B[38;5;124m\"\u001B[39m\u001B[38;5;124mv1 + v2 = \u001B[39m\u001B[38;5;132;01m{\u001B[39;00mv1 \u001B[38;5;241m+\u001B[39m v2\u001B[38;5;132;01m}\u001B[39;00m\u001B[38;5;130;01m\\n\u001B[39;00m\u001B[38;5;124m\"\u001B[39m)\n\u001B[1;32m     10\u001B[0m \u001B[38;5;28mprint\u001B[39m(\u001B[38;5;124mf\u001B[39m\u001B[38;5;124m\"\u001B[39m\u001B[38;5;124mM + N = \u001B[39m\u001B[38;5;130;01m\\n\u001B[39;00m\u001B[38;5;132;01m{\u001B[39;00mM \u001B[38;5;241m+\u001B[39m N\u001B[38;5;132;01m}\u001B[39;00m\u001B[38;5;130;01m\\n\u001B[39;00m\u001B[38;5;124m\"\u001B[39m)\n\u001B[1;32m     12\u001B[0m \u001B[38;5;28mprint\u001B[39m(\u001B[38;5;124mf\u001B[39m\u001B[38;5;124m\"\u001B[39m\u001B[38;5;124m(M+N) * M =\u001B[39m\u001B[38;5;130;01m\\n\u001B[39;00m\u001B[38;5;132;01m{\u001B[39;00m(M\u001B[38;5;241m+\u001B[39mN) \u001B[38;5;241m@\u001B[39m M\u001B[38;5;132;01m}\u001B[39;00m\u001B[38;5;130;01m\\n\u001B[39;00m\u001B[38;5;124m\"\u001B[39m)\n",
      "\u001B[0;31mTypeError\u001B[0m: unsupported operand type(s) for +: 'NoneType' and 'NoneType'"
     ]
    }
   ],
   "source": [
    "v1 = None\n",
    "v2 = None\n",
    "M = None\n",
    "N = None\n",
    "print(f\"v1: {v1}\\nv2: {v2}\\n\")\n",
    "print(f\"M:\\n{M}\\nN:\\n{N}\\n\")\n",
    "\n",
    "print(f\"v1 + v2 = {v1 + v2}\\n\")\n",
    "\n",
    "print(f\"M + N = \\n{M + N}\\n\")\n",
    "\n",
    "print(f\"(M+N) * M =\\n{(M+N) @ M}\\n\")\n",
    "\n",
    "print(f\"v1 dot v2 = {v1.dot(v2)}\")\n",
    "\n",
    "print(f\"Element-wise M * N =\\n{M * N}\")\n"
   ],
   "metadata": {
    "collapsed": false,
    "pycharm": {
     "name": "#%%\n"
    }
   }
  },
  {
   "cell_type": "markdown",
   "source": [
    "## e) Reductions\n",
    "- Take the sum of all elements in a matrix\n",
    "- Compute the minimum value in a matrix\n",
    "    - Also, find its position in the matrix\n",
    "- Create a vector that is the maximum of each column in a matrix\n",
    "- Find the L2-norm of a vector\n",
    "- Find the number of elements in a vector that is greater than a given value."
   ],
   "metadata": {
    "collapsed": false
   }
  },
  {
   "cell_type": "code",
   "execution_count": 15,
   "outputs": [
    {
     "name": "stdout",
     "output_type": "stream",
     "text": [
      "sum of A: None\n",
      "minimum of A: None at index None, (or None in 2D)\n",
      "maximum of each column in A: None\n",
      "L2 norm of None is None\n",
      "v2: None,\n",
      "    None elements are greater than 10\n"
     ]
    }
   ],
   "source": [
    "# Replace 'None' with valid expressions\n",
    "\n",
    "# TODO: Take the sum of all elements in a matrix\n",
    "# https://numpy.org/doc/stable/user/quickstart.html#basic-operations\n",
    "print(f\"sum of A: {None}\")\n",
    "\n",
    "# TODO: Compute the minimum value in a matrix\n",
    "# TODO: Also, find its position in the matrix.\n",
    "print(f\"minimum of A: {None} \"\n",
    "      f\"at index {None}, \"\n",
    "      f\"(or {None} in 2D)\")\n",
    "\n",
    "# TODO: Create a vector that is the maximum of each column in a matrix.\n",
    "print(f\"maximum of each column in A: {None}\")\n",
    "\n",
    "# TODO: Find the L2-norm of a vector.\n",
    "v1 = None\n",
    "print(f\"L2 norm of {v1} is {None}\")\n",
    "\n",
    "# TODO: Find the number of elements in a vector that is greater than a given value.\n",
    "# https://numpy.org/doc/stable/user/quickstart.html#changing-the-shape-of-an-array\n",
    "v2 = None\n",
    "print(f\"v2: {v2},\\n\"\n",
    "      f\"    {None} elements are greater than 10\")"
   ],
   "metadata": {
    "collapsed": false,
    "pycharm": {
     "name": "#%%\n"
    }
   }
  },
  {
   "cell_type": "markdown",
   "source": [
    "Now that you have gotten to know NumPy, let's use it to transform images in the [next part of the lab](lab_01_transformations.ipynb)!"
   ],
   "metadata": {
    "collapsed": false,
    "pycharm": {
     "name": "#%% md\n"
    }
   }
  }
 ],
 "metadata": {
  "kernelspec": {
   "display_name": "Python 3 (ipykernel)",
   "language": "python",
   "name": "python3"
  },
  "language_info": {
   "codemirror_mode": {
    "name": "ipython",
    "version": 3
   },
   "file_extension": ".py",
   "mimetype": "text/x-python",
   "name": "python",
   "nbconvert_exporter": "python",
   "pygments_lexer": "ipython3",
   "version": "3.8.10"
  }
 },
 "nbformat": 4,
 "nbformat_minor": 1
}