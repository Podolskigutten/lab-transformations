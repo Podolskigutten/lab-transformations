{
 "cells": [
  {
   "cell_type": "markdown",
   "metadata": {
    "collapsed": true,
    "pycharm": {
     "name": "#%% md\n"
    }
   },
   "source": [
    "# 1. Getting started\n",
    "Familiarize yourself with the [NumPy quickstart](https://numpy.org/doc/stable/user/quickstart.html).\n",
    "\n",
    "# 2. Get familiar with NumPy\n",
    "You should be able to solve all of this part's tasks within the text, examples and links in the quickstart guide.\n",
    "\n",
    "## a) Create vectors and matrices"
   ]
  },
  {
   "cell_type": "code",
   "execution_count": null,
   "outputs": [],
   "source": [
    "import numpy as np\n",
    "\n",
    "t = None\n",
    "\n",
    "A = None\n",
    "\n",
    "I = None  # Hint: https://numpy.org/doc/stable/user/quickstart.html#functions-and-methods-overview\n",
    "\n",
    "T = None\n",
    "\n",
    "B = None"
   ],
   "metadata": {
    "collapsed": false,
    "pycharm": {
     "name": "#%%\n"
    }
   }
  },
  {
   "cell_type": "markdown",
   "source": [
    "## a)"
   ],
   "metadata": {
    "collapsed": false
   }
  }
 ],
 "metadata": {
  "kernelspec": {
   "display_name": "Python 3",
   "language": "python",
   "name": "python3"
  },
  "language_info": {
   "codemirror_mode": {
    "name": "ipython",
    "version": 2
   },
   "file_extension": ".py",
   "mimetype": "text/x-python",
   "name": "python",
   "nbconvert_exporter": "python",
   "pygments_lexer": "ipython2",
   "version": "2.7.6"
  }
 },
 "nbformat": 4,
 "nbformat_minor": 0
}